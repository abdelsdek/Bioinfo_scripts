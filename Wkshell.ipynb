{
  "nbformat": 4,
  "nbformat_minor": 0,
  "metadata": {
    "colab": {
      "name": "Wkshell.ipynb",
      "version": "0.3.2",
      "provenance": [],
      "collapsed_sections": [],
      "include_colab_link": true
    }
  },
  "cells": [
    {
      "cell_type": "markdown",
      "metadata": {
        "id": "view-in-github",
        "colab_type": "text"
      },
      "source": [
        "[View in Colaboratory](https://colab.research.google.com/github/nilesh-iiita/Bioinfo_scripts/blob/master/Wkshell.ipynb)"
      ]
    },
    {
      "metadata": {
        "id": "T14gzaRIT69B",
        "colab_type": "text"
      },
      "cell_type": "markdown",
      "source": [
        ""
      ]
    },
    {
      "metadata": {
        "id": "6zIsQ5xbT9uD",
        "colab_type": "text"
      },
      "cell_type": "markdown",
      "source": [
        "##Import libraries"
      ]
    },
    {
      "metadata": {
        "id": "IWya-aCtUCcu",
        "colab_type": "code",
        "colab": {
          "base_uri": "https://localhost:8080/",
          "height": 122
        },
        "outputId": "4499936e-4090-451d-dc72-7fe38a454e92"
      },
      "cell_type": "code",
      "source": [
        "import sys\n",
        "import networkx as nx\n",
        "import time\n",
        "from collections import defaultdict\n",
        "from google.colab import drive\n",
        "tic = time.clock()\n",
        "drive.mount('/content/gdrive')"
      ],
      "execution_count": 2,
      "outputs": [
        {
          "output_type": "stream",
          "text": [
            "Go to this URL in a browser: https://accounts.google.com/o/oauth2/auth?client_id=947318989803-6bn6qk8qdgf4n4g3pfee6491hc0brc4i.apps.googleusercontent.com&redirect_uri=urn%3Aietf%3Awg%3Aoauth%3A2.0%3Aoob&scope=email%20https%3A%2F%2Fwww.googleapis.com%2Fauth%2Fdocs.test%20https%3A%2F%2Fwww.googleapis.com%2Fauth%2Fdrive%20https%3A%2F%2Fwww.googleapis.com%2Fauth%2Fdrive.photos.readonly%20https%3A%2F%2Fwww.googleapis.com%2Fauth%2Fpeopleapi.readonly&response_type=code\n",
            "\n",
            "Enter your authorization code:\n",
            "··········\n",
            "Mounted at /content/gdrive\n"
          ],
          "name": "stdout"
        }
      ]
    },
    {
      "metadata": {
        "id": "j-GNpBL1UG1K",
        "colab_type": "text"
      },
      "cell_type": "markdown",
      "source": [
        "## Define Variables"
      ]
    },
    {
      "metadata": {
        "id": "rYec76arULfG",
        "colab_type": "code",
        "colab": {}
      },
      "cell_type": "code",
      "source": [
        "old_min = -2147483648\n",
        "shl = 1;\n",
        "alpha = 0.5\n",
        "old_min = -2147483648\n",
        "shl = 1;\n",
        "shells = []\n"
      ],
      "execution_count": 0,
      "outputs": []
    },
    {
      "metadata": {
        "id": "e8YhiQt2Ucy-",
        "colab_type": "text"
      },
      "cell_type": "markdown",
      "source": [
        "##1-Read edges into the Graph"
      ]
    },
    {
      "metadata": {
        "id": "_c4Qp7nXUoR8",
        "colab_type": "code",
        "colab": {
          "base_uri": "https://localhost:8080/",
          "height": 34
        },
        "outputId": "5099fed8-ae52-4f48-8a5c-1670d7770394"
      },
      "cell_type": "code",
      "source": [
        "filename = \"e.csv\"\n",
        "#G = nx.read_edgelist(\"/content/gdrive/My Drive/Colab Notebooks/WKshell/e.csv\",delimiter = \",\")\n",
        "G = nx.read_edgelist(\"/content/gdrive/My Drive/Colab Notebooks/WKshell/rice_edges.csv\",delimiter = \",\")\n",
        "Nodes = G.number_of_nodes()\n",
        "print(Nodes)"
      ],
      "execution_count": 4,
      "outputs": [
        {
          "output_type": "stream",
          "text": [
            "16895\n"
          ],
          "name": "stdout"
        }
      ]
    },
    {
      "metadata": {
        "id": "ngHSWmHaWzxE",
        "colab_type": "text"
      },
      "cell_type": "markdown",
      "source": [
        "##Calculate Degree"
      ]
    },
    {
      "metadata": {
        "id": "ymg1u8uhW28J",
        "colab_type": "code",
        "colab": {}
      },
      "cell_type": "code",
      "source": [
        "Degree = G.degree()\n",
        "def weight(G,i,w):\n",
        "  return Degree[str(i)] + Degree[str(w)]"
      ],
      "execution_count": 0,
      "outputs": []
    },
    {
      "metadata": {
        "id": "Jhbn7puWXHfn",
        "colab_type": "text"
      },
      "cell_type": "markdown",
      "source": [
        "##Calculate Weights"
      ]
    },
    {
      "metadata": {
        "id": "DjN8vSwXXKoD",
        "colab_type": "code",
        "colab": {}
      },
      "cell_type": "code",
      "source": [
        "W_e = {}\n",
        "N_w = {}\n",
        "for n in G:\n",
        "    N_w[n] = 0\n",
        "    for w in G[n]:\n",
        "        W = weight(G,n,w)\n",
        "        L = [n,w]\n",
        "        s = \"_\".join([str(L[0]),str(L[1])])\n",
        "        s1 = \"_\".join([str(L[1]),str(L[0])])\n",
        "        if not(s in W_e or s1 in W_e):\n",
        "            W_e[s] = [W,0]\n",
        "List = defaultdict(list)\n",
        "for i in W_e:\n",
        "    a,b  = i.split(\"_\")\n",
        "    List[a].append(i)\n",
        "    List[b].append(i)"
      ],
      "execution_count": 0,
      "outputs": []
    },
    {
      "metadata": {
        "id": "o8DO6p5WXUqk",
        "colab_type": "code",
        "colab": {
          "base_uri": "https://localhost:8080/",
          "height": 289
        },
        "outputId": "9d7ebdca-7f5b-4aa8-bfb3-3095b538832d"
      },
      "cell_type": "code",
      "source": [
        "#print('Start of #3 %f sec' % (time.clock() - tic))\n",
        "while G.number_of_nodes():\n",
        "    Time = (time.clock() - tic)\n",
        "    #print('Start of #3.1 %f sec' % (time.clock() - tic))\n",
        "    for i in xrange(1,len(N_w)+1):\n",
        "        i = str(i)\n",
        "        we = 0\n",
        "        if i in G:\n",
        "            for w in G.neighbors(str(i)):\n",
        "                if w in G:\n",
        "                    we += weight(G,i,w)\n",
        "                if str(i)+\"_\"+str(w) in W_e:\n",
        "                    W_e[str(i)+\"_\"+str(w)][0] = weight(G,i,w)\n",
        "                    W_e[str(i)+\"_\"+str(w)][1] = 1\n",
        "\n",
        "            for j in List[i]:\n",
        "                a,b = j.split(\"_\")\n",
        "                if((a ==i or b ==i ) and int(W_e[j][1])==0):\n",
        "                    we += W_e[j][0];\n",
        "\n",
        "            N_w[i] = int(alpha*Degree[str(i)] + (1-alpha)*we)\n",
        "\n",
        "    #print('Start of #4 %f sec' % (time.clock() - tic))\n",
        "    #Find lowest weight in N_w\n",
        "    Min = min(N_w.items(), key=lambda x: x[1])[1]\n",
        "    #5- Remove it in a shell\n",
        "    sh = \"\";\n",
        "    for i in N_w:\n",
        "        if(N_w[i] == Min):\n",
        "            sh += str(i)+\",\"\n",
        "            G.remove_node(str(i))\n",
        "            for j in W_e:\n",
        "                n,w = j.split(\"_\")\n",
        "                if(n == i or w == i):\n",
        "                    W_e[j][1] = 0;\n",
        "    ss = \"\";\n",
        "    if(Min <= old_min):\n",
        "        Min = old_min;\n",
        "        ss = shells[len(shells)-1]\n",
        "        shells.pop(len(shells)-1);\n",
        "        ss+=sh;\n",
        "        sh=ss;\n",
        "\n",
        "    shells.append(sh+\"(\"+str(Min)+\")\");\n",
        "\n",
        "    sh = \"\";\n",
        "    for i in N_w:\n",
        "        N_w[i] = 2147483647\n",
        "    old_min = Min\n",
        "    print (time.clock() - tic),(time.clock() - tic) - Time,G.number_of_nodes(),(Nodes-G.number_of_nodes())*100./Nodes,\"%\"\n",
        "    \n",
        "#fh = open(\"/content/gdrive/My Drive/Colab Notebooks/WKshell/out.txt\",\"w\")\n",
        "for s in shells:\n",
        "  print \"(\"+str(shl)+\")-\"+s\n",
        "with open('/content/gdrive/My Drive/Colab Notebooks/WKshell/rice_edges.txt', 'w') as f:\n",
        "  for s in shells:\n",
        "    f.write(\"(\"+str(shl)+\")-\"+s+'\\n')\n",
        "#files.download('out.txt')\n"
      ],
      "execution_count": 0,
      "outputs": [
        {
          "output_type": "stream",
          "text": [
            "70.41582 58.296129 16797 0.580053270198 %\n",
            "94.862589 24.445775 16763 0.781296241492 %\n",
            "149.877357 55.013789 16670 1.33175495709 %\n",
            "192.266522 42.388197 16600 1.74607872152 %\n",
            "200.412018 8.144634 16598 1.75791654336 %\n",
            "230.186736 29.773769 16555 2.01242971293 %\n",
            "261.731717 31.54454 16508 2.29061852619 %\n",
            "296.343674 34.611049 16454 2.61023971589 %\n",
            "304.076545 7.731976 16453 2.61615862681 %\n",
            "325.426018 21.348345 16425 2.78188813258 %\n",
            "351.137746 25.710751 16390 2.9890500148 %\n",
            "378.002167 26.863297 16351 3.21988754069 %\n",
            "411.942765 33.93969 16298 3.53358981947 %\n",
            "419.580565 7.636887 16297 3.53950873039 %\n",
            "428.298969 8.717445 16294 3.55726546315 %\n",
            "435.996327 7.696396 16293 3.56318437408 %\n"
          ],
          "name": "stdout"
        }
      ]
    }
  ]
}